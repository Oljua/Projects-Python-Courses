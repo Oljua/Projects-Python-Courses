{
 "cells": [
  {
   "cell_type": "markdown",
   "id": "8d2ec886",
   "metadata": {},
   "source": [
    "# Проект 0\n",
    "\n",
    "## Программа, угадывающая число от 1 до 100"
   ]
  },
  {
   "cell_type": "code",
   "execution_count": 4,
   "id": "d1c6bcc5",
   "metadata": {},
   "outputs": [],
   "source": [
    "import numpy as np"
   ]
  },
  {
   "cell_type": "code",
   "execution_count": 5,
   "id": "8d56ef01",
   "metadata": {},
   "outputs": [],
   "source": [
    "def game_core(number):\n",
    "    count = 0 # счетчик попыток\n",
    "    left_border = 0\n",
    "    right_border = 100\n",
    "    \n",
    "    while number != hidden_number:\n",
    "        count += 1\n",
    "        \n",
    "        if right_border > predict: \n",
    "            right_border /= 2\n",
    "\n",
    "            \n",
    "        elif number < predict:\n",
    "            right_border = predict - 1\n",
    "            predict =  int((left_border+right_border) / 2) #determination of the average value            \n",
    "    return(count)\n",
    "\n",
    "# Функция инициализации угаданного числа и запуска игры\n",
    "def score_game(game_core):\n",
    "    hidden_number = np.random.randint(1,101, size=(1000)) # загаданное число (1000 раз)\n",
    "    np.random.seed(1)  # фиксация RANDOM SEED\n",
    "\n",
    "    count_ls = []\n",
    "    for number in hidden_number:\n",
    "        count_ls.append(game_core(hidden_number))\n",
    "    score = int(np.mean(count_ls))\n",
    "   \n",
    "    print(\"Ваш алгоритм угадывает число в среднем за\", score, \"попыток\")\n",
    "    return(score)"
   ]
  },
  {
   "cell_type": "code",
   "execution_count": null,
   "id": "160d6572",
   "metadata": {},
   "outputs": [],
   "source": []
  }
 ],
 "metadata": {
  "celltoolbar": "Вложения",
  "kernelspec": {
   "display_name": "Python 3 (ipykernel)",
   "language": "python",
   "name": "python3"
  },
  "language_info": {
   "codemirror_mode": {
    "name": "ipython",
    "version": 3
   },
   "file_extension": ".py",
   "mimetype": "text/x-python",
   "name": "python",
   "nbconvert_exporter": "python",
   "pygments_lexer": "ipython3",
   "version": "3.9.7"
  },
  "varInspector": {
   "cols": {
    "lenName": 16,
    "lenType": 16,
    "lenVar": 40
   },
   "kernels_config": {
    "python": {
     "delete_cmd_postfix": "",
     "delete_cmd_prefix": "del ",
     "library": "var_list.py",
     "varRefreshCmd": "print(var_dic_list())"
    },
    "r": {
     "delete_cmd_postfix": ") ",
     "delete_cmd_prefix": "rm(",
     "library": "var_list.r",
     "varRefreshCmd": "cat(var_dic_list()) "
    }
   },
   "types_to_exclude": [
    "module",
    "function",
    "builtin_function_or_method",
    "instance",
    "_Feature"
   ],
   "window_display": false
  }
 },
 "nbformat": 4,
 "nbformat_minor": 5
}
